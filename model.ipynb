{
 "cells": [
  {
   "cell_type": "markdown",
   "metadata": {},
   "source": [
    "# CS 133 PROJECT: MACHINE LEARNING MODEL\n",
    "--------\n",
    "### Team: Jonathan Manzano & Henry Pham  \n",
    "Dataset: Autism in children  \n",
    "\n",
    "[link to Proj Description](https://sjsu.instructure.com/courses/1580083/files/76444276?module_item_id=15357781)"
   ]
  },
  {
   "cell_type": "markdown",
   "metadata": {},
   "source": [
    "Notes: \n",
    "1. Problem type: \n",
    "    - Classification\n",
    "\n",
    "2. Testing Models:\n",
    "    - Random Forest Classifier\n",
    "    - Logistic Regression\n",
    "    - Stochastic Gradient Descent\n",
    "    - Support Vector Classifier\n",
    "\n",
    "3. Conclusions:\n",
    "    - Confusion Matrix\n",
    "    - Best Testing Metric\n"
   ]
  },
  {
   "cell_type": "code",
   "execution_count": 37,
   "metadata": {},
   "outputs": [],
   "source": [
    "from sklearn import tree\n",
    "from sklearn.compose import ColumnTransformer\n",
    "from sklearn.ensemble import RandomForestClassifier\n",
    "from sklearn.impute import SimpleImputer\n",
    "from sklearn.linear_model import LogisticRegression, SGDClassifier\n",
    "from sklearn.metrics import accuracy_score, classification_report, confusion_matrix\n",
    "from sklearn.model_selection import (\n",
    "    cross_val_score,\n",
    "    KFold,\n",
    "    StratifiedShuffleSplit,\n",
    "    train_test_split,\n",
    "    GridSearchCV,\n",
    ")\n",
    "from sklearn.neural_network import MLPClassifier\n",
    "from sklearn.pipeline import Pipeline\n",
    "from sklearn.preprocessing import OneHotEncoder, StandardScaler\n",
    "from sklearn.svm import SVC\n",
    "import matplotlib.pyplot as plt\n",
    "import numpy as np\n",
    "import pandas as pd\n",
    "import seaborn as sns\n",
    "\n",
    "# if i knew what all of these were doing i would tell you"
   ]
  },
  {
   "cell_type": "code",
   "execution_count": 19,
   "metadata": {},
   "outputs": [
    {
     "data": {
      "text/html": [
       "<div>\n",
       "<style scoped>\n",
       "    .dataframe tbody tr th:only-of-type {\n",
       "        vertical-align: middle;\n",
       "    }\n",
       "\n",
       "    .dataframe tbody tr th {\n",
       "        vertical-align: top;\n",
       "    }\n",
       "\n",
       "    .dataframe thead th {\n",
       "        text-align: right;\n",
       "    }\n",
       "</style>\n",
       "<table border=\"1\" class=\"dataframe\">\n",
       "  <thead>\n",
       "    <tr style=\"text-align: right;\">\n",
       "      <th></th>\n",
       "      <th>A1_Score</th>\n",
       "      <th>A2_Score</th>\n",
       "      <th>A3_Score</th>\n",
       "      <th>A4_Score</th>\n",
       "      <th>A5_Score</th>\n",
       "      <th>A6_Score</th>\n",
       "      <th>A7_Score</th>\n",
       "      <th>A8_Score</th>\n",
       "      <th>A9_Score</th>\n",
       "      <th>A10_Score</th>\n",
       "      <th>...</th>\n",
       "      <th>gender</th>\n",
       "      <th>ethnicity</th>\n",
       "      <th>jundice</th>\n",
       "      <th>austim</th>\n",
       "      <th>country_of_res</th>\n",
       "      <th>used_app_before</th>\n",
       "      <th>total_score</th>\n",
       "      <th>age_desc</th>\n",
       "      <th>relation</th>\n",
       "      <th>ASD</th>\n",
       "    </tr>\n",
       "  </thead>\n",
       "  <tbody>\n",
       "    <tr>\n",
       "      <th>0</th>\n",
       "      <td>1</td>\n",
       "      <td>1</td>\n",
       "      <td>0</td>\n",
       "      <td>0</td>\n",
       "      <td>1</td>\n",
       "      <td>1</td>\n",
       "      <td>0</td>\n",
       "      <td>1</td>\n",
       "      <td>0</td>\n",
       "      <td>0</td>\n",
       "      <td>...</td>\n",
       "      <td>m</td>\n",
       "      <td>Others</td>\n",
       "      <td>no</td>\n",
       "      <td>no</td>\n",
       "      <td>Jordan</td>\n",
       "      <td>no</td>\n",
       "      <td>5</td>\n",
       "      <td>4-11 years</td>\n",
       "      <td>Parent</td>\n",
       "      <td>NO</td>\n",
       "    </tr>\n",
       "    <tr>\n",
       "      <th>1</th>\n",
       "      <td>1</td>\n",
       "      <td>1</td>\n",
       "      <td>0</td>\n",
       "      <td>0</td>\n",
       "      <td>1</td>\n",
       "      <td>1</td>\n",
       "      <td>0</td>\n",
       "      <td>1</td>\n",
       "      <td>0</td>\n",
       "      <td>0</td>\n",
       "      <td>...</td>\n",
       "      <td>m</td>\n",
       "      <td>Middle Eastern</td>\n",
       "      <td>no</td>\n",
       "      <td>no</td>\n",
       "      <td>Jordan</td>\n",
       "      <td>no</td>\n",
       "      <td>5</td>\n",
       "      <td>4-11 years</td>\n",
       "      <td>Parent</td>\n",
       "      <td>NO</td>\n",
       "    </tr>\n",
       "    <tr>\n",
       "      <th>2</th>\n",
       "      <td>1</td>\n",
       "      <td>1</td>\n",
       "      <td>0</td>\n",
       "      <td>0</td>\n",
       "      <td>0</td>\n",
       "      <td>1</td>\n",
       "      <td>1</td>\n",
       "      <td>1</td>\n",
       "      <td>0</td>\n",
       "      <td>0</td>\n",
       "      <td>...</td>\n",
       "      <td>m</td>\n",
       "      <td>NaN</td>\n",
       "      <td>no</td>\n",
       "      <td>no</td>\n",
       "      <td>Jordan</td>\n",
       "      <td>yes</td>\n",
       "      <td>5</td>\n",
       "      <td>4-11 years</td>\n",
       "      <td>NaN</td>\n",
       "      <td>NO</td>\n",
       "    </tr>\n",
       "    <tr>\n",
       "      <th>3</th>\n",
       "      <td>0</td>\n",
       "      <td>1</td>\n",
       "      <td>0</td>\n",
       "      <td>0</td>\n",
       "      <td>1</td>\n",
       "      <td>1</td>\n",
       "      <td>0</td>\n",
       "      <td>0</td>\n",
       "      <td>0</td>\n",
       "      <td>1</td>\n",
       "      <td>...</td>\n",
       "      <td>f</td>\n",
       "      <td>NaN</td>\n",
       "      <td>yes</td>\n",
       "      <td>no</td>\n",
       "      <td>Jordan</td>\n",
       "      <td>no</td>\n",
       "      <td>4</td>\n",
       "      <td>4-11 years</td>\n",
       "      <td>NaN</td>\n",
       "      <td>NO</td>\n",
       "    </tr>\n",
       "    <tr>\n",
       "      <th>4</th>\n",
       "      <td>1</td>\n",
       "      <td>1</td>\n",
       "      <td>1</td>\n",
       "      <td>1</td>\n",
       "      <td>1</td>\n",
       "      <td>1</td>\n",
       "      <td>1</td>\n",
       "      <td>1</td>\n",
       "      <td>1</td>\n",
       "      <td>1</td>\n",
       "      <td>...</td>\n",
       "      <td>m</td>\n",
       "      <td>Others</td>\n",
       "      <td>yes</td>\n",
       "      <td>no</td>\n",
       "      <td>United States</td>\n",
       "      <td>no</td>\n",
       "      <td>10</td>\n",
       "      <td>4-11 years</td>\n",
       "      <td>Parent</td>\n",
       "      <td>YES</td>\n",
       "    </tr>\n",
       "  </tbody>\n",
       "</table>\n",
       "<p>5 rows × 21 columns</p>\n",
       "</div>"
      ],
      "text/plain": [
       "   A1_Score  A2_Score  A3_Score  A4_Score  A5_Score  A6_Score  A7_Score  \\\n",
       "0         1         1         0         0         1         1         0   \n",
       "1         1         1         0         0         1         1         0   \n",
       "2         1         1         0         0         0         1         1   \n",
       "3         0         1         0         0         1         1         0   \n",
       "4         1         1         1         1         1         1         1   \n",
       "\n",
       "   A8_Score  A9_Score  A10_Score  ...  gender        ethnicity jundice austim  \\\n",
       "0         1         0          0  ...       m           Others      no     no   \n",
       "1         1         0          0  ...       m  Middle Eastern       no     no   \n",
       "2         1         0          0  ...       m              NaN      no     no   \n",
       "3         0         0          1  ...       f              NaN     yes     no   \n",
       "4         1         1          1  ...       m           Others     yes     no   \n",
       "\n",
       "  country_of_res used_app_before total_score    age_desc relation  ASD  \n",
       "0         Jordan              no           5  4-11 years   Parent   NO  \n",
       "1         Jordan              no           5  4-11 years   Parent   NO  \n",
       "2         Jordan             yes           5  4-11 years      NaN   NO  \n",
       "3         Jordan              no           4  4-11 years      NaN   NO  \n",
       "4  United States              no          10  4-11 years   Parent  YES  \n",
       "\n",
       "[5 rows x 21 columns]"
      ]
     },
     "execution_count": 19,
     "metadata": {},
     "output_type": "execute_result"
    }
   ],
   "source": [
    "#read the data\n",
    "def get_data():\n",
    "    data=\"https://raw.githubusercontent.com/csbfx/cs133/main/autism_child.csv\"\n",
    "    df = pd.read_csv(data, sep=',', na_values = '?')\n",
    "    return df\n",
    "\n",
    "df = get_data()\n",
    "df.head()"
   ]
  },
  {
   "cell_type": "code",
   "execution_count": 113,
   "metadata": {},
   "outputs": [],
   "source": [
    "########################################\n",
    "#### Prepare test and training sets ####\n",
    "########################################\n",
    "df = get_data()\n",
    "\n",
    "split = StratifiedShuffleSplit(n_splits = 1, test_size = 0.2, random_state = 42)\n",
    "for train_index, test_index in split.split(df, df['ASD']):\n",
    "    strat_train_set = df.loc[train_index]\n",
    "    test_set = df.loc[test_index]\n",
    "\n",
    "dirty_train_df = strat_train_set.drop('ASD', axis = 1) # features for model training, needs cleaning\n",
    "train_labels = strat_train_set['ASD'].copy()           # targeted ASD outputs for model training"
   ]
  },
  {
   "cell_type": "code",
   "execution_count": 114,
   "metadata": {},
   "outputs": [],
   "source": [
    "########################\n",
    "####  Data Cleaning ####\n",
    "########################\n",
    "\n",
    "# get the numerical columns & categorical columns\n",
    "num_attribs = [cols for cols in dirty_train_df.columns if dirty_train_df[cols].dtype != \"object\"]\n",
    "cat_attribs = [cols for cols in dirty_train_df.columns if dirty_train_df[cols].dtype == \"object\"]\n",
    "\n",
    "#fill any missing values in numerical columns with median value\n",
    "imputer = SimpleImputer(strategy=\"median\")\n",
    "num_prepped = dirty_train_df[num_attribs]\n",
    "imputer.fit(num_prepped)\n",
    "\n",
    "# make object/string/categorical columns machine learning model readable\n",
    "cat_prepped = dirty_train_df[cat_attribs]\n",
    "cat_encoder = OneHotEncoder()\n",
    "hot_cat_prepped = cat_encoder.fit_transform(cat_prepped)\n",
    "\n",
    "#i think this dataset would benefit from having combined attributes, my brain is too much rn so will work on it later\n",
    "\n",
    "# make a combined attributes later\n",
    "\n",
    "# create numerical pipeline to handle numerical columns using median strategy\n",
    "num_pipeline = Pipeline(\n",
    "    [\n",
    "    ('imputer', SimpleImputer(strategy = \"median\")),\n",
    "    #('attribs_adder', CombinedAttributesAdder()),\n",
    "    (\"std_scaler\", StandardScaler()),\n",
    "    ]\n",
    ")\n",
    "\n",
    "# fit and transform the numerical data/columns\n",
    "num_tr = num_pipeline.fit_transform(num_prepped)\n",
    "\n",
    "# create a full pipeline to handle both numerical and categorical columns\n",
    "full_pipeline = ColumnTransformer([\n",
    "    (\"num\", num_pipeline, num_attribs),\n",
    "    (\"cat\", OneHotEncoder(handle_unknown='ignore'), cat_attribs) # handle_unknown='ignore' to avoid errors when new categories are encountered, needed for final model test set transformation\n",
    "])\n",
    "\n",
    "# fit and transform the data using the full pipeline\n",
    "train_set = full_pipeline.fit_transform(dirty_train_df)"
   ]
  },
  {
   "cell_type": "code",
   "execution_count": 36,
   "metadata": {},
   "outputs": [
    {
     "ename": "ValueError",
     "evalue": "Shape of passed values is (233, 1), indices imply (233, 23)",
     "output_type": "error",
     "traceback": [
      "\u001b[1;31m---------------------------------------------------------------------------\u001b[0m",
      "\u001b[1;31mValueError\u001b[0m                                Traceback (most recent call last)",
      "Cell \u001b[1;32mIn[36], line 3\u001b[0m\n\u001b[0;32m      1\u001b[0m \u001b[38;5;66;03m# my attempt to convert from 2d array to df\u001b[39;00m\n\u001b[0;32m      2\u001b[0m cols\u001b[38;5;241m=\u001b[39m\u001b[38;5;28mlist\u001b[39m(df\u001b[38;5;241m.\u001b[39mcolumns) \u001b[38;5;241m+\u001b[39m cat_encoder\u001b[38;5;241m.\u001b[39mcategories_[\u001b[38;5;241m0\u001b[39m]\u001b[38;5;241m.\u001b[39mtolist()\n\u001b[1;32m----> 3\u001b[0m df_prepped_df \u001b[38;5;241m=\u001b[39m \u001b[43mpd\u001b[49m\u001b[38;5;241;43m.\u001b[39;49m\u001b[43mDataFrame\u001b[49m\u001b[43m(\u001b[49m\u001b[43mtrain_set\u001b[49m\u001b[43m,\u001b[49m\u001b[43m \u001b[49m\u001b[43mcolumns\u001b[49m\u001b[38;5;241;43m=\u001b[39;49m\u001b[43mcols\u001b[49m\u001b[43m,\u001b[49m\u001b[43m \u001b[49m\u001b[43mindex\u001b[49m\u001b[43m \u001b[49m\u001b[38;5;241;43m=\u001b[39;49m\u001b[43m \u001b[49m\u001b[43mdirty_train_df\u001b[49m\u001b[38;5;241;43m.\u001b[39;49m\u001b[43mindex\u001b[49m\u001b[43m)\u001b[49m\n\u001b[0;32m      4\u001b[0m \u001b[38;5;66;03m# i still dont know how to do this, i will work on it later\u001b[39;00m\n",
      "File \u001b[1;32mc:\\Users\\Henry Pham\\VSCode\\CS133\\db-ml-final-project-cs133sp24-sjsu\\venv\\Lib\\site-packages\\pandas\\core\\frame.py:867\u001b[0m, in \u001b[0;36mDataFrame.__init__\u001b[1;34m(self, data, index, columns, dtype, copy)\u001b[0m\n\u001b[0;32m    859\u001b[0m         mgr \u001b[38;5;241m=\u001b[39m arrays_to_mgr(\n\u001b[0;32m    860\u001b[0m             arrays,\n\u001b[0;32m    861\u001b[0m             columns,\n\u001b[1;32m   (...)\u001b[0m\n\u001b[0;32m    864\u001b[0m             typ\u001b[38;5;241m=\u001b[39mmanager,\n\u001b[0;32m    865\u001b[0m         )\n\u001b[0;32m    866\u001b[0m     \u001b[38;5;28;01melse\u001b[39;00m:\n\u001b[1;32m--> 867\u001b[0m         mgr \u001b[38;5;241m=\u001b[39m \u001b[43mndarray_to_mgr\u001b[49m\u001b[43m(\u001b[49m\n\u001b[0;32m    868\u001b[0m \u001b[43m            \u001b[49m\u001b[43mdata\u001b[49m\u001b[43m,\u001b[49m\n\u001b[0;32m    869\u001b[0m \u001b[43m            \u001b[49m\u001b[43mindex\u001b[49m\u001b[43m,\u001b[49m\n\u001b[0;32m    870\u001b[0m \u001b[43m            \u001b[49m\u001b[43mcolumns\u001b[49m\u001b[43m,\u001b[49m\n\u001b[0;32m    871\u001b[0m \u001b[43m            \u001b[49m\u001b[43mdtype\u001b[49m\u001b[38;5;241;43m=\u001b[39;49m\u001b[43mdtype\u001b[49m\u001b[43m,\u001b[49m\n\u001b[0;32m    872\u001b[0m \u001b[43m            \u001b[49m\u001b[43mcopy\u001b[49m\u001b[38;5;241;43m=\u001b[39;49m\u001b[43mcopy\u001b[49m\u001b[43m,\u001b[49m\n\u001b[0;32m    873\u001b[0m \u001b[43m            \u001b[49m\u001b[43mtyp\u001b[49m\u001b[38;5;241;43m=\u001b[39;49m\u001b[43mmanager\u001b[49m\u001b[43m,\u001b[49m\n\u001b[0;32m    874\u001b[0m \u001b[43m        \u001b[49m\u001b[43m)\u001b[49m\n\u001b[0;32m    875\u001b[0m \u001b[38;5;28;01melse\u001b[39;00m:\n\u001b[0;32m    876\u001b[0m     mgr \u001b[38;5;241m=\u001b[39m dict_to_mgr(\n\u001b[0;32m    877\u001b[0m         {},\n\u001b[0;32m    878\u001b[0m         index,\n\u001b[1;32m   (...)\u001b[0m\n\u001b[0;32m    881\u001b[0m         typ\u001b[38;5;241m=\u001b[39mmanager,\n\u001b[0;32m    882\u001b[0m     )\n",
      "File \u001b[1;32mc:\\Users\\Henry Pham\\VSCode\\CS133\\db-ml-final-project-cs133sp24-sjsu\\venv\\Lib\\site-packages\\pandas\\core\\internals\\construction.py:336\u001b[0m, in \u001b[0;36mndarray_to_mgr\u001b[1;34m(values, index, columns, dtype, copy, typ)\u001b[0m\n\u001b[0;32m    331\u001b[0m \u001b[38;5;66;03m# _prep_ndarraylike ensures that values.ndim == 2 at this point\u001b[39;00m\n\u001b[0;32m    332\u001b[0m index, columns \u001b[38;5;241m=\u001b[39m _get_axes(\n\u001b[0;32m    333\u001b[0m     values\u001b[38;5;241m.\u001b[39mshape[\u001b[38;5;241m0\u001b[39m], values\u001b[38;5;241m.\u001b[39mshape[\u001b[38;5;241m1\u001b[39m], index\u001b[38;5;241m=\u001b[39mindex, columns\u001b[38;5;241m=\u001b[39mcolumns\n\u001b[0;32m    334\u001b[0m )\n\u001b[1;32m--> 336\u001b[0m \u001b[43m_check_values_indices_shape_match\u001b[49m\u001b[43m(\u001b[49m\u001b[43mvalues\u001b[49m\u001b[43m,\u001b[49m\u001b[43m \u001b[49m\u001b[43mindex\u001b[49m\u001b[43m,\u001b[49m\u001b[43m \u001b[49m\u001b[43mcolumns\u001b[49m\u001b[43m)\u001b[49m\n\u001b[0;32m    338\u001b[0m \u001b[38;5;28;01mif\u001b[39;00m typ \u001b[38;5;241m==\u001b[39m \u001b[38;5;124m\"\u001b[39m\u001b[38;5;124marray\u001b[39m\u001b[38;5;124m\"\u001b[39m:\n\u001b[0;32m    339\u001b[0m     \u001b[38;5;28;01mif\u001b[39;00m \u001b[38;5;28missubclass\u001b[39m(values\u001b[38;5;241m.\u001b[39mdtype\u001b[38;5;241m.\u001b[39mtype, \u001b[38;5;28mstr\u001b[39m):\n",
      "File \u001b[1;32mc:\\Users\\Henry Pham\\VSCode\\CS133\\db-ml-final-project-cs133sp24-sjsu\\venv\\Lib\\site-packages\\pandas\\core\\internals\\construction.py:420\u001b[0m, in \u001b[0;36m_check_values_indices_shape_match\u001b[1;34m(values, index, columns)\u001b[0m\n\u001b[0;32m    418\u001b[0m passed \u001b[38;5;241m=\u001b[39m values\u001b[38;5;241m.\u001b[39mshape\n\u001b[0;32m    419\u001b[0m implied \u001b[38;5;241m=\u001b[39m (\u001b[38;5;28mlen\u001b[39m(index), \u001b[38;5;28mlen\u001b[39m(columns))\n\u001b[1;32m--> 420\u001b[0m \u001b[38;5;28;01mraise\u001b[39;00m \u001b[38;5;167;01mValueError\u001b[39;00m(\u001b[38;5;124mf\u001b[39m\u001b[38;5;124m\"\u001b[39m\u001b[38;5;124mShape of passed values is \u001b[39m\u001b[38;5;132;01m{\u001b[39;00mpassed\u001b[38;5;132;01m}\u001b[39;00m\u001b[38;5;124m, indices imply \u001b[39m\u001b[38;5;132;01m{\u001b[39;00mimplied\u001b[38;5;132;01m}\u001b[39;00m\u001b[38;5;124m\"\u001b[39m)\n",
      "\u001b[1;31mValueError\u001b[0m: Shape of passed values is (233, 1), indices imply (233, 23)"
     ]
    }
   ],
   "source": [
    "# my attempt to convert from 2d array to df\n",
    "cols=list(df.columns) + cat_encoder.categories_[0].tolist()\n",
    "df_prepped_df = pd.DataFrame(train_set, columns=cols, index = dirty_train_df.index)\n",
    "# i still dont know how to do this, i will work on it later"
   ]
  },
  {
   "cell_type": "code",
   "execution_count": 131,
   "metadata": {},
   "outputs": [],
   "source": [
    "########################################\n",
    "####### Model creation & testing #######\n",
    "########################################\n",
    "\n",
    "some_data = dirty_train_df.iloc[:10]\n",
    "some_labels = train_labels.iloc[:10]\n",
    "some_data_prepared = full_pipeline.transform(some_data)\n",
    "\n",
    "kf = KFold(\n",
    "    n_splits=20,\n",
    "    shuffle=True,\n",
    "    random_state=42,\n",
    ")\n",
    "\n",
    "def cross_val_score_accuracy(model, data, labels):\n",
    "    scores = cross_val_score(model, data, labels, scoring=\"accuracy\", cv=kf)\n",
    "    return scores\n",
    "\n",
    "def cross_val_score_precision(model, data, labels):\n",
    "    scores = cross_val_score(model, data, labels, scoring=\"precision\", cv=kf)\n",
    "    return scores\n",
    "\n",
    "def display_acc_scores(scores):\n",
    "    print(\"Accuracy: \", scores.round(3))\n",
    "    print(\"Mean Accuracy: \", np.mean(scores).round(3))\n",
    "\n",
    "def display_pre_scores(scores):\n",
    "    print(\"Precision:\", scores)\n",
    "    print(\"Mean Precision:\", np.mean(scores))"
   ]
  },
  {
   "cell_type": "markdown",
   "metadata": {},
   "source": [
    "### Random Forest Classifier"
   ]
  },
  {
   "cell_type": "code",
   "execution_count": 110,
   "metadata": {},
   "outputs": [
    {
     "name": "stdout",
     "output_type": "stream",
     "text": [
      "Predictions: ['YES' 'NO' 'NO' 'NO' 'NO' 'NO' 'YES' 'YES' 'NO' 'YES']\n",
      "Labels:      ['YES', 'NO', 'NO', 'NO', 'NO', 'NO', 'YES', 'YES', 'NO', 'YES']\n",
      "Accuracy:  [1. 1. 1. 1. 1. 1. 1. 1. 1. 1.]\n",
      "Mean Accuracy:  1.0\n"
     ]
    }
   ],
   "source": [
    "# initialize the RandomForestClassifier\n",
    "rfc_clf = RandomForestClassifier(max_features= 4 ,n_estimators= 100, random_state=42)\n",
    "rfc_clf.fit(train_set, train_labels)\n",
    "\n",
    "# visualize the predictions\n",
    "print(\"Predictions:\", rfc_clf.predict(some_data_prepared))\n",
    "print(\"Labels:     \", list(some_labels))\n",
    "\n",
    "# cross validation scores\n",
    "rdf_acc_scores = cross_val_score_accuracy(rfc_clf, train_set, train_labels)\n",
    "display_acc_scores(rdf_acc_scores)"
   ]
  },
  {
   "cell_type": "markdown",
   "metadata": {},
   "source": [
    "### Logistic Regression"
   ]
  },
  {
   "cell_type": "code",
   "execution_count": 111,
   "metadata": {},
   "outputs": [
    {
     "name": "stdout",
     "output_type": "stream",
     "text": [
      "Predictions: ['YES' 'NO' 'NO' 'NO' 'NO' 'NO' 'YES' 'YES' 'NO' 'YES']\n",
      "Labels:      ['YES', 'NO', 'NO', 'NO', 'NO', 'NO', 'YES', 'YES', 'NO', 'YES']\n",
      "Accuracy:  [1. 1. 1. 1. 1. 1. 1. 1. 1. 1.]\n",
      "Mean Accuracy:  1.0\n"
     ]
    }
   ],
   "source": [
    "# initialize the LogisticRegression\n",
    "log_reg = LogisticRegression(random_state=42)\n",
    "log_reg.fit(train_set, train_labels)\n",
    "\n",
    "# visualize the predictions\n",
    "print(\"Predictions:\", log_reg.predict(some_data_prepared))\n",
    "print(\"Labels:     \", list(some_labels))\n",
    "\n",
    "# cross validation scores\n",
    "log_acc_scores = cross_val_score_accuracy(log_reg, train_set, train_labels)\n",
    "display_acc_scores(log_acc_scores)"
   ]
  },
  {
   "cell_type": "markdown",
   "metadata": {},
   "source": [
    "### Stochastic Gradient Descent"
   ]
  },
  {
   "cell_type": "code",
   "execution_count": 70,
   "metadata": {},
   "outputs": [
    {
     "name": "stdout",
     "output_type": "stream",
     "text": [
      "Predictions: ['YES' 'NO' 'NO' 'NO' 'NO' 'NO' 'YES' 'YES' 'NO' 'YES']\n",
      "Labels:      ['YES', 'NO', 'NO', 'NO', 'NO', 'NO', 'YES', 'YES', 'NO', 'YES']\n",
      "Accuracy:  [1.    1.    0.958 1.    1.    1.    0.957 1.    0.957 1.   ]\n",
      "Mean Accuracy:  0.987\n"
     ]
    }
   ],
   "source": [
    "# initialize the Stockastic Gradient Descent Classifier\n",
    "sgd_clf = SGDClassifier(\n",
    "    loss = \"squared_hinge\",\n",
    "    learning_rate = \"optimal\",\n",
    "    max_iter = 1000,\n",
    "    tol = 1e-3,\n",
    "    random_state=42)\n",
    "\n",
    "sgd_clf.fit(train_set, train_labels.to_numpy())\n",
    "\n",
    "# visualize the predictions\n",
    "print(\"Predictions:\", sgd_clf.predict(some_data_prepared))\n",
    "print(\"Labels:     \", list(some_labels))\n",
    "\n",
    "# cross validation scores\n",
    "sgd_acc_scores = cross_val_score_accuracy(sgd_clf, train_set, train_labels)\n",
    "display_acc_scores(sgd_acc_scores)"
   ]
  },
  {
   "cell_type": "markdown",
   "metadata": {},
   "source": [
    "### Support Vector Classifier"
   ]
  },
  {
   "cell_type": "code",
   "execution_count": 64,
   "metadata": {},
   "outputs": [
    {
     "name": "stdout",
     "output_type": "stream",
     "text": [
      "Predictions: ['NO' 'NO' 'NO' 'NO' 'YES' 'NO' 'YES' 'YES' 'YES' 'NO']\n",
      "Labels:      ['YES', 'NO', 'NO', 'NO', 'NO', 'NO', 'YES', 'YES', 'NO', 'YES']\n",
      "Accuracy:  [1.    0.958 0.958 1.    0.957 0.957 1.    0.913 1.    1.   ]\n",
      "Mean Accuracy:  0.974\n"
     ]
    }
   ],
   "source": [
    "# initialize the Support Vector Classifier\n",
    "svc_clf = SVC(kernel = \"rbf\", C = 1.0, gamma= \"scale\", random_state=42)\n",
    "svc_clf.fit(train_set, train_labels)\n",
    "\n",
    "# visualize the predictions\n",
    "print(\"Predictions:\", svc_clf.predict(some_data_prepared))\n",
    "print(\"Labels:     \", list(some_labels))\n",
    "\n",
    "# cross validation scores\n",
    "svc_acc_scores = cross_val_score_accuracy(svc_clf, train_set, train_labels)\n",
    "display_acc_scores(svc_acc_scores)"
   ]
  },
  {
   "cell_type": "markdown",
   "metadata": {},
   "source": [
    "### FINE TUNING (IDK WHY EVERYTHING IS WORKING)"
   ]
  },
  {
   "cell_type": "code",
   "execution_count": 97,
   "metadata": {},
   "outputs": [
    {
     "data": {
      "text/plain": [
       "{'max_features': 4, 'n_estimators': 100}"
      ]
     },
     "execution_count": 97,
     "metadata": {},
     "output_type": "execute_result"
    }
   ],
   "source": [
    "# initialize GridSearchCV for RandomForestClassifier\n",
    "param_grid = [\n",
    "    {'n_estimators': [25,50,75,100,125,150,175,200], 'max_features': [2,3,4,5,6,7,8,9,10]},\n",
    "    {'bootstrap': [False], 'n_estimators': [50,75,125,175], 'max_features': [4,5,6,7,8]},\n",
    "]\n",
    "\n",
    "grid_search = GridSearchCV(rfc_clf, param_grid, cv=10, scoring='accuracy', return_train_score=True)\n",
    "\n",
    "grid_search.fit(train_set, train_labels)\n",
    "\n",
    "grid_search.best_params_"
   ]
  },
  {
   "cell_type": "code",
   "execution_count": 98,
   "metadata": {},
   "outputs": [
    {
     "name": "stdout",
     "output_type": "stream",
     "text": [
      "RandomForestClassifier(max_features=4, random_state=42)\n",
      "0.9702898550724639 {'max_features': 2, 'n_estimators': 25}\n",
      "0.9914855072463767 {'max_features': 2, 'n_estimators': 50}\n",
      "0.9958333333333333 {'max_features': 2, 'n_estimators': 75}\n",
      "0.9958333333333333 {'max_features': 2, 'n_estimators': 100}\n",
      "0.9958333333333333 {'max_features': 2, 'n_estimators': 125}\n",
      "0.9958333333333333 {'max_features': 2, 'n_estimators': 150}\n",
      "0.9958333333333333 {'max_features': 2, 'n_estimators': 175}\n",
      "0.9914855072463767 {'max_features': 2, 'n_estimators': 200}\n",
      "0.9788043478260869 {'max_features': 3, 'n_estimators': 25}\n",
      "0.9788043478260869 {'max_features': 3, 'n_estimators': 50}\n",
      "0.9871376811594204 {'max_features': 3, 'n_estimators': 75}\n",
      "0.9871376811594204 {'max_features': 3, 'n_estimators': 100}\n",
      "0.9871376811594204 {'max_features': 3, 'n_estimators': 125}\n",
      "0.9914855072463767 {'max_features': 3, 'n_estimators': 150}\n",
      "0.9914855072463767 {'max_features': 3, 'n_estimators': 175}\n",
      "0.9914855072463767 {'max_features': 3, 'n_estimators': 200}\n",
      "0.9956521739130434 {'max_features': 4, 'n_estimators': 25}\n",
      "0.9956521739130434 {'max_features': 4, 'n_estimators': 50}\n",
      "0.9956521739130434 {'max_features': 4, 'n_estimators': 75}\n",
      "1.0 {'max_features': 4, 'n_estimators': 100}\n",
      "1.0 {'max_features': 4, 'n_estimators': 125}\n",
      "1.0 {'max_features': 4, 'n_estimators': 150}\n",
      "1.0 {'max_features': 4, 'n_estimators': 175}\n",
      "1.0 {'max_features': 4, 'n_estimators': 200}\n",
      "0.9958333333333333 {'max_features': 5, 'n_estimators': 25}\n",
      "0.9958333333333333 {'max_features': 5, 'n_estimators': 50}\n",
      "1.0 {'max_features': 5, 'n_estimators': 75}\n",
      "1.0 {'max_features': 5, 'n_estimators': 100}\n",
      "1.0 {'max_features': 5, 'n_estimators': 125}\n",
      "1.0 {'max_features': 5, 'n_estimators': 150}\n",
      "1.0 {'max_features': 5, 'n_estimators': 175}\n",
      "1.0 {'max_features': 5, 'n_estimators': 200}\n",
      "0.9789855072463768 {'max_features': 6, 'n_estimators': 25}\n",
      "0.9956521739130434 {'max_features': 6, 'n_estimators': 50}\n",
      "1.0 {'max_features': 6, 'n_estimators': 75}\n",
      "1.0 {'max_features': 6, 'n_estimators': 100}\n",
      "1.0 {'max_features': 6, 'n_estimators': 125}\n",
      "1.0 {'max_features': 6, 'n_estimators': 150}\n",
      "1.0 {'max_features': 6, 'n_estimators': 175}\n",
      "1.0 {'max_features': 6, 'n_estimators': 200}\n",
      "1.0 {'max_features': 7, 'n_estimators': 25}\n",
      "1.0 {'max_features': 7, 'n_estimators': 50}\n",
      "1.0 {'max_features': 7, 'n_estimators': 75}\n",
      "1.0 {'max_features': 7, 'n_estimators': 100}\n",
      "1.0 {'max_features': 7, 'n_estimators': 125}\n",
      "1.0 {'max_features': 7, 'n_estimators': 150}\n",
      "1.0 {'max_features': 7, 'n_estimators': 175}\n",
      "1.0 {'max_features': 7, 'n_estimators': 200}\n",
      "1.0 {'max_features': 8, 'n_estimators': 25}\n",
      "1.0 {'max_features': 8, 'n_estimators': 50}\n",
      "1.0 {'max_features': 8, 'n_estimators': 75}\n",
      "1.0 {'max_features': 8, 'n_estimators': 100}\n",
      "1.0 {'max_features': 8, 'n_estimators': 125}\n",
      "1.0 {'max_features': 8, 'n_estimators': 150}\n",
      "1.0 {'max_features': 8, 'n_estimators': 175}\n",
      "1.0 {'max_features': 8, 'n_estimators': 200}\n",
      "1.0 {'max_features': 9, 'n_estimators': 25}\n",
      "1.0 {'max_features': 9, 'n_estimators': 50}\n",
      "1.0 {'max_features': 9, 'n_estimators': 75}\n",
      "1.0 {'max_features': 9, 'n_estimators': 100}\n",
      "1.0 {'max_features': 9, 'n_estimators': 125}\n",
      "1.0 {'max_features': 9, 'n_estimators': 150}\n",
      "1.0 {'max_features': 9, 'n_estimators': 175}\n",
      "1.0 {'max_features': 9, 'n_estimators': 200}\n",
      "1.0 {'max_features': 10, 'n_estimators': 25}\n",
      "1.0 {'max_features': 10, 'n_estimators': 50}\n",
      "1.0 {'max_features': 10, 'n_estimators': 75}\n",
      "1.0 {'max_features': 10, 'n_estimators': 100}\n",
      "1.0 {'max_features': 10, 'n_estimators': 125}\n",
      "1.0 {'max_features': 10, 'n_estimators': 150}\n",
      "1.0 {'max_features': 10, 'n_estimators': 175}\n",
      "1.0 {'max_features': 10, 'n_estimators': 200}\n",
      "0.9958333333333333 {'bootstrap': False, 'max_features': 4, 'n_estimators': 50}\n",
      "1.0 {'bootstrap': False, 'max_features': 4, 'n_estimators': 75}\n",
      "1.0 {'bootstrap': False, 'max_features': 4, 'n_estimators': 125}\n",
      "0.9958333333333333 {'bootstrap': False, 'max_features': 4, 'n_estimators': 175}\n",
      "1.0 {'bootstrap': False, 'max_features': 5, 'n_estimators': 50}\n",
      "1.0 {'bootstrap': False, 'max_features': 5, 'n_estimators': 75}\n",
      "1.0 {'bootstrap': False, 'max_features': 5, 'n_estimators': 125}\n",
      "1.0 {'bootstrap': False, 'max_features': 5, 'n_estimators': 175}\n",
      "1.0 {'bootstrap': False, 'max_features': 6, 'n_estimators': 50}\n",
      "1.0 {'bootstrap': False, 'max_features': 6, 'n_estimators': 75}\n",
      "1.0 {'bootstrap': False, 'max_features': 6, 'n_estimators': 125}\n",
      "1.0 {'bootstrap': False, 'max_features': 6, 'n_estimators': 175}\n",
      "1.0 {'bootstrap': False, 'max_features': 7, 'n_estimators': 50}\n",
      "1.0 {'bootstrap': False, 'max_features': 7, 'n_estimators': 75}\n",
      "1.0 {'bootstrap': False, 'max_features': 7, 'n_estimators': 125}\n",
      "1.0 {'bootstrap': False, 'max_features': 7, 'n_estimators': 175}\n",
      "1.0 {'bootstrap': False, 'max_features': 8, 'n_estimators': 50}\n",
      "1.0 {'bootstrap': False, 'max_features': 8, 'n_estimators': 75}\n",
      "1.0 {'bootstrap': False, 'max_features': 8, 'n_estimators': 125}\n",
      "1.0 {'bootstrap': False, 'max_features': 8, 'n_estimators': 175}\n"
     ]
    }
   ],
   "source": [
    "print(grid_search.best_estimator_)\n",
    "cvres = grid_search.cv_results_\n",
    "for accuracy, params in zip(cvres[\"mean_test_score\"], cvres[\"params\"]):\n",
    "    print(accuracy, params)"
   ]
  },
  {
   "cell_type": "code",
   "execution_count": 99,
   "metadata": {},
   "outputs": [
    {
     "data": {
      "text/plain": [
       "array([4.05603259e-02, 2.27528524e-02, 4.77179989e-02, 8.11995847e-02,\n",
       "       3.57025483e-02, 3.38713666e-02, 2.85155780e-02, 5.17269103e-02,\n",
       "       5.34718241e-02, 5.53949953e-02, 2.75576336e-02, 3.06086691e-01,\n",
       "       8.11858395e-03, 7.10466459e-03, 6.77223535e-03, 3.72783171e-03,\n",
       "       1.51641965e-03, 2.88959830e-03, 5.85632190e-03, 2.66968366e-03,\n",
       "       8.92956422e-04, 6.10458708e-03, 6.03178024e-04, 9.52624914e-03,\n",
       "       6.22966583e-03, 8.79462312e-03, 1.03160334e-02, 7.80607442e-03,\n",
       "       4.99557153e-03, 1.30207192e-03, 2.85134936e-03, 5.99156401e-03,\n",
       "       4.60727914e-04, 2.21743510e-03, 3.00282957e-03, 2.07754758e-04,\n",
       "       1.12630486e-03, 5.57251905e-04, 1.29551217e-03, 6.92736940e-04,\n",
       "       4.66908442e-03, 2.12500604e-04, 3.92239199e-04, 8.81039462e-05,\n",
       "       8.04773021e-03, 2.00504404e-03, 9.12127287e-04, 3.35976481e-04,\n",
       "       1.98176560e-03, 6.60354578e-03, 3.12231127e-04, 4.61124636e-04,\n",
       "       7.53433893e-04, 1.57653784e-03, 1.26966622e-04, 4.67769426e-04,\n",
       "       5.73021615e-04, 7.20274976e-04, 4.42126260e-03, 5.06600228e-05,\n",
       "       8.58972840e-04, 1.00089796e-03, 2.68238209e-03, 9.21946299e-04,\n",
       "       1.27684698e-03, 1.15129506e-03, 8.08498383e-04, 1.18974601e-04,\n",
       "       7.08129972e-04, 3.68369827e-03, 7.85937756e-03, 1.46820888e-02,\n",
       "       2.85598112e-03, 2.72388995e-03, 0.00000000e+00, 4.08622548e-03,\n",
       "       8.41129990e-03, 6.42371176e-03, 9.60439933e-04, 6.73165055e-04,\n",
       "       5.21265204e-03])"
      ]
     },
     "execution_count": 99,
     "metadata": {},
     "output_type": "execute_result"
    }
   ],
   "source": [
    "# Analyzing feature importance\n",
    "feature_importances = grid_search.best_estimator_.feature_importances_\n",
    "feature_importances"
   ]
  },
  {
   "cell_type": "code",
   "execution_count": 100,
   "metadata": {},
   "outputs": [
    {
     "data": {
      "text/plain": [
       "[(0.30608669093865365, 'total_score'),\n",
       " (0.0811995847376632, 'A4_Score'),\n",
       " (0.05539499532303919, 'A10_Score'),\n",
       " (0.05347182413312703, 'A9_Score'),\n",
       " (0.05172691027443368, 'A8_Score'),\n",
       " (0.04771799888247479, 'A3_Score'),\n",
       " (0.04056032593283623, 'A1_Score'),\n",
       " (0.03570254828257978, 'A5_Score'),\n",
       " (0.03387136661839292, 'A6_Score'),\n",
       " (0.028515577961105383, 'A7_Score'),\n",
       " (0.02755763357483989, 'age'),\n",
       " (0.022752852411390037, 'A2_Score'),\n",
       " (0.008118583945435144, 'f'),\n",
       " (0.00710466458955944, 'm')]"
      ]
     },
     "execution_count": 100,
     "metadata": {},
     "output_type": "execute_result"
    }
   ],
   "source": [
    "cat_encoder = full_pipeline.named_transformers_[\"cat\"]\n",
    "cat_one_hot_attribs = list(cat_encoder.categories_[0])\n",
    "attributes = num_attribs + cat_one_hot_attribs\n",
    "sorted(zip(feature_importances, attributes), reverse=True)\n",
    "#wowowowow so cool"
   ]
  },
  {
   "cell_type": "code",
   "execution_count": 105,
   "metadata": {},
   "outputs": [
    {
     "name": "stdout",
     "output_type": "stream",
     "text": [
      "Test set score: 1.0\n",
      "Classification Report:\n",
      "               precision    recall  f1-score   support\n",
      "\n",
      "          NO       1.00      1.00      1.00        31\n",
      "         YES       1.00      1.00      1.00        28\n",
      "\n",
      "    accuracy                           1.00        59\n",
      "   macro avg       1.00      1.00      1.00        59\n",
      "weighted avg       1.00      1.00      1.00        59\n",
      "\n"
     ]
    }
   ],
   "source": [
    "#final model training sets\n",
    "X_test = test_set.drop('ASD', axis = 1)\n",
    "Y_test = test_set['ASD'].copy()\n",
    "\n",
    "X_test_prepped = full_pipeline.transform(X_test)\n",
    "\n",
    "# best model from grid searching, returns a random forest classifier\n",
    "final_model = grid_search.best_estimator_\n",
    "\n",
    "final_predictions = final_model.predict(X_test_prepped)\n",
    "\n",
    "print(\"Test set score:\", accuracy_score(Y_test, final_predictions))\n",
    "print(\"Classification Report:\\n\", classification_report(Y_test, final_predictions))\n"
   ]
  },
  {
   "cell_type": "code",
   "execution_count": 106,
   "metadata": {},
   "outputs": [
    {
     "data": {
      "image/png": "[encoded data removed]",
      "text/plain": [
       "<Figure size 1000x700 with 2 Axes>"
      ]
     },
     "metadata": {},
     "output_type": "display_data"
    }
   ],
   "source": [
    " # confusion matrix\n",
    "conf_matrix = confusion_matrix(Y_test, final_predictions)\n",
    "plt.figure(figsize=(10, 7))\n",
    "sns.heatmap(conf_matrix, annot=True, fmt='d', cmap='Blues')\n",
    "plt.xlabel('Predicted labels')\n",
    "plt.ylabel('True labels')\n",
    "plt.title('Confusion Matrix')\n",
    "plt.show()\n"
   ]
  },
  {
   "cell_type": "markdown",
   "metadata": {},
   "source": [
    "## Conclusion\n",
    "\n",
    "Best feature: total_score"
   ]
  },
  {
   "cell_type": "markdown",
   "metadata": {},
   "source": [
    "# EXTRA STUFF \n",
    "\n",
    "## Contents:\n",
    "- same 4 models but with total_score dropped\n",
    "- testing models using ONLY total_score"
   ]
  },
  {
   "cell_type": "code",
   "execution_count": 119,
   "metadata": {},
   "outputs": [],
   "source": [
    "#drop total_score from train_set\n",
    "# no_total = train_set.drop('total_score', axis = 1)  <-- this is wrong BECAUSE train_set is a numpy array and does not have columns\n",
    "\n",
    "dirty_no_total = strat_train_set.drop(['total_score', 'ASD'], axis = 1)\n",
    "no_total_labels = strat_train_set['ASD'].copy()\n",
    "\n",
    "# remake pipeline to account for total_score column drop\n",
    "no_total_num_attribs = [cols for cols in dirty_no_total.columns if dirty_no_total[cols].dtype != \"object\"]\n",
    "no_total_full_pipeline = ColumnTransformer([\n",
    "    (\"num\", num_pipeline, no_total_num_attribs),\n",
    "    (\"cat\", OneHotEncoder(handle_unknown='ignore'), cat_attribs) # handle_unknown='ignore' to avoid errors when new categories are encountered, needed for final model test set transformation\n",
    "])\n",
    "\n",
    "no_total_prepped = no_total_full_pipeline.fit_transform(dirty_no_total)\n",
    "#use no_total_prepped and no_total_labels for training\n"
   ]
  },
  {
   "cell_type": "code",
   "execution_count": 121,
   "metadata": {},
   "outputs": [],
   "source": [
    "# test the model with the first 10 rows of the training set\n",
    "\n",
    "more_data = dirty_no_total.iloc[:10]\n",
    "more_labels = no_total_labels.iloc[:10]\n",
    "more_data_prepared = no_total_full_pipeline.transform(more_data)"
   ]
  },
  {
   "cell_type": "code",
   "execution_count": 132,
   "metadata": {},
   "outputs": [
    {
     "name": "stdout",
     "output_type": "stream",
     "text": [
      "Predictions: ['YES' 'NO' 'NO' 'NO' 'NO' 'NO' 'YES' 'YES' 'NO' 'YES']\n",
      "Labels:      ['YES', 'NO', 'NO', 'NO', 'NO', 'NO', 'YES', 'YES', 'NO', 'YES']\n",
      "Accuracy:  [0.75  1.    0.917 0.833 0.917 1.    0.917 0.833 1.    0.833 0.75  0.917\n",
      " 1.    0.636 1.    0.818 0.909 0.818 0.727 1.   ]\n",
      "Mean Accuracy:  0.879\n"
     ]
    }
   ],
   "source": [
    "#initialize the RandomForestClassifier\n",
    "no_total_rfc_clf = RandomForestClassifier(max_features= 4 ,n_estimators= 100, random_state=42)\n",
    "no_total_rfc_clf.fit(no_total_prepped, no_total_labels)\n",
    "\n",
    "#visualize the predictions\n",
    "print(\"Predictions:\", no_total_rfc_clf.predict(more_data_prepared))\n",
    "print(\"Labels:     \", list(more_labels))\n",
    "\n",
    "#cross validation scores\n",
    "no_total_rdf_acc_scores = cross_val_score_accuracy(no_total_rfc_clf, no_total_prepped, no_total_labels)\n",
    "display_acc_scores(no_total_rdf_acc_scores)\n"
   ]
  },
  {
   "cell_type": "code",
   "execution_count": 133,
   "metadata": {},
   "outputs": [
    {
     "name": "stdout",
     "output_type": "stream",
     "text": [
      "Predictions: ['YES' 'NO' 'NO' 'NO' 'NO' 'NO' 'YES' 'YES' 'NO' 'YES']\n",
      "Labels:      ['YES', 'NO', 'NO', 'NO', 'NO', 'NO', 'YES', 'YES', 'NO', 'YES']\n",
      "Accuracy:  [1. 1. 1. 1. 1. 1. 1. 1. 1. 1. 1. 1. 1. 1. 1. 1. 1. 1. 1. 1.]\n",
      "Mean Accuracy:  1.0\n"
     ]
    }
   ],
   "source": [
    "#initialize the LogisticRegression\n",
    "no_total_log_reg = LogisticRegression(random_state=42)\n",
    "no_total_log_reg.fit(no_total_prepped, no_total_labels)\n",
    "\n",
    "#visualize the predictions\n",
    "print(\"Predictions:\", no_total_log_reg.predict(more_data_prepared))\n",
    "print(\"Labels:     \", list(more_labels))\n",
    "\n",
    "#cross validation scores\n",
    "no_total_log_acc_scores = cross_val_score_accuracy(no_total_log_reg, no_total_prepped, no_total_labels)\n",
    "display_acc_scores(no_total_log_acc_scores)"
   ]
  },
  {
   "cell_type": "code",
   "execution_count": 134,
   "metadata": {},
   "outputs": [
    {
     "name": "stdout",
     "output_type": "stream",
     "text": [
      "Predictions: ['YES' 'NO' 'NO' 'NO' 'NO' 'NO' 'YES' 'YES' 'NO' 'YES']\n",
      "Labels:      ['YES', 'NO', 'NO', 'NO', 'NO', 'NO', 'YES', 'YES', 'NO', 'YES']\n",
      "Accuracy:  [1.    0.917 0.917 1.    1.    1.    0.917 1.    1.    0.917 1.    1.\n",
      " 1.    1.    0.909 1.    1.    1.    1.    1.   ]\n",
      "Mean Accuracy:  0.979\n"
     ]
    }
   ],
   "source": [
    "#initialize the Stockastic Gradient Descent Classifier\n",
    "no_total_sgd_clf = SGDClassifier(\n",
    "    loss = \"squared_hinge\",\n",
    "    learning_rate = \"optimal\",\n",
    "    max_iter = 1000,\n",
    "    tol = 1e-3,\n",
    "    random_state=42)\n",
    "\n",
    "no_total_sgd_clf.fit(no_total_prepped, no_total_labels.to_numpy())\n",
    "\n",
    "#visualize the predictions\n",
    "print(\"Predictions:\", no_total_sgd_clf.predict(more_data_prepared))\n",
    "print(\"Labels:     \", list(more_labels))\n",
    "\n",
    "#cross validation scores\n",
    "no_total_sgd_acc_scores = cross_val_score_accuracy(no_total_sgd_clf, no_total_prepped, no_total_labels)\n",
    "display_acc_scores(no_total_sgd_acc_scores)\n"
   ]
  },
  {
   "cell_type": "code",
   "execution_count": 135,
   "metadata": {},
   "outputs": [
    {
     "name": "stdout",
     "output_type": "stream",
     "text": [
      "Predictions: ['YES' 'NO' 'NO' 'NO' 'NO' 'NO' 'YES' 'YES' 'NO' 'YES']\n",
      "Labels:      ['YES', 'NO', 'NO', 'NO', 'NO', 'NO', 'YES', 'YES', 'NO', 'YES']\n",
      "Accuracy:  [0.917 0.917 1.    1.    1.    1.    1.    0.917 1.    1.    0.917 1.\n",
      " 1.    0.909 1.    0.909 1.    1.    1.    1.   ]\n",
      "Mean Accuracy:  0.974\n"
     ]
    }
   ],
   "source": [
    "#initialize the Support Vector Classifier\n",
    "no_total_svc_clf = SVC(kernel = \"rbf\", C = 1.0, gamma= \"scale\", random_state=42)\n",
    "no_total_svc_clf.fit(no_total_prepped, no_total_labels)\n",
    "\n",
    "#visualize the predictions\n",
    "print(\"Predictions:\", no_total_svc_clf.predict(more_data_prepared))\n",
    "print(\"Labels:     \", list(more_labels))\n",
    "\n",
    "#cross validation scores\n",
    "no_total_svc_acc_scores = cross_val_score_accuracy(no_total_svc_clf, no_total_prepped, no_total_labels)\n",
    "display_acc_scores(no_total_svc_acc_scores)"
   ]
  },
  {
   "cell_type": "markdown",
   "metadata": {},
   "source": [
    "### Immidiate observations\n",
    "\n",
    "RFC is now the lowest accuracy ?!?!??!!?!??\n",
    "Will try fine tuning the RFC just to see what its thinking and explore how total_scores was effecting the overall model"
   ]
  },
  {
   "cell_type": "code",
   "execution_count": 136,
   "metadata": {},
   "outputs": [
    {
     "data": {
      "text/plain": [
       "{'max_features': 8, 'n_estimators': 150}"
      ]
     },
     "execution_count": 136,
     "metadata": {},
     "output_type": "execute_result"
    }
   ],
   "source": [
    "# fine tune the no_total model using GridSearchCV\n",
    "param_grid = [\n",
    "    {'n_estimators': [25,50,75,100,125,150,175,200], 'max_features': [2,3,4,5,6,7,8,9,10]},\n",
    "    {'bootstrap': [False], 'n_estimators': [50,75,125,175], 'max_features': [4,5,6,7,8]},\n",
    "]\n",
    "\n",
    "grid_search = GridSearchCV(no_total_rfc_clf, param_grid, cv=10, scoring='accuracy', return_train_score=True)\n",
    "\n",
    "grid_search.fit(no_total_prepped, no_total_labels)\n",
    "\n",
    "grid_search.best_params_"
   ]
  },
  {
   "cell_type": "code",
   "execution_count": 138,
   "metadata": {},
   "outputs": [
    {
     "data": {
      "text/plain": [
       "[(0.159072047449011, 'A4_Score'),\n",
       " (0.08111973269921209, 'A10_Score'),\n",
       " (0.06950320042337413, 'A8_Score'),\n",
       " (0.06871071284951225, 'A9_Score'),\n",
       " (0.057354440866984706, 'A5_Score'),\n",
       " (0.05684428320211154, 'A3_Score'),\n",
       " (0.05324470180082345, 'A6_Score'),\n",
       " (0.05066278683386549, 'A1_Score'),\n",
       " (0.04342819829350169, 'age'),\n",
       " (0.04089671571235682, 'A7_Score'),\n",
       " (0.03517175897085617, 'A2_Score'),\n",
       " (0.013682794994760864, 'm'),\n",
       " (0.012543960617022834, 'f')]"
      ]
     },
     "execution_count": 138,
     "metadata": {},
     "output_type": "execute_result"
    }
   ],
   "source": [
    "# Analyzing feature importance\n",
    "feature_importances = grid_search.best_estimator_.feature_importances_\n",
    "feature_importances\n",
    "\n",
    "cat_encoder = no_total_full_pipeline.named_transformers_[\"cat\"]\n",
    "cat_one_hot_attribs = list(cat_encoder.categories_[0])\n",
    "attributes = no_total_num_attribs + cat_one_hot_attribs\n",
    "sorted(zip(feature_importances, attributes), reverse=True)"
   ]
  },
  {
   "cell_type": "markdown",
   "metadata": {},
   "source": [
    "### Observations after fine tuning\n",
    "- A4, A10, A8, A9 scores are still in the top 5 scores\n",
    "- with total_score removed, it is most likely that the questions that were answered yes when correlated with ASD were A4, A10, A8, A9\n",
    "  - basically: A4, A10, A8, A9 were most likely answered yes for every individual diagnosed with ASD, and A4 was DEFINITELY answered yes for every individual diagnosed with ASD\n"
   ]
  },
  {
   "cell_type": "code",
   "execution_count": 139,
   "metadata": {},
   "outputs": [
    {
     "name": "stdout",
     "output_type": "stream",
     "text": [
      "Test set score: 0.9322033898305084\n",
      "Classification Report:\n",
      "               precision    recall  f1-score   support\n",
      "\n",
      "          NO       0.97      0.90      0.93        31\n",
      "         YES       0.90      0.96      0.93        28\n",
      "\n",
      "    accuracy                           0.93        59\n",
      "   macro avg       0.93      0.93      0.93        59\n",
      "weighted avg       0.93      0.93      0.93        59\n",
      "\n"
     ]
    }
   ],
   "source": [
    "# final model training sets\n",
    "X_test = test_set.drop(['ASD', 'total_score'], axis = 1)\n",
    "Y_test = test_set['ASD'].copy()\n",
    "\n",
    "X_test_prepped = no_total_full_pipeline.transform(X_test)\n",
    "\n",
    "# best model from grid searching, returns a random forest classifier\n",
    "final_model = grid_search.best_estimator_\n",
    "\n",
    "final_predictions = final_model.predict(X_test_prepped)\n",
    "\n",
    "print(\"Test set score:\", accuracy_score(Y_test, final_predictions))\n",
    "print(\"Classification Report:\\n\", classification_report(Y_test, final_predictions))"
   ]
  },
  {
   "cell_type": "code",
   "execution_count": 140,
   "metadata": {},
   "outputs": [
    {
     "data": {
      "image/png": "[encoded data removed]",
      "text/plain": [
       "<Figure size 1000x700 with 2 Axes>"
      ]
     },
     "metadata": {},
     "output_type": "display_data"
    }
   ],
   "source": [
    "# confusion matrix\n",
    "conf_matrix = confusion_matrix(Y_test, final_predictions)\n",
    "plt.figure(figsize=(10, 7))\n",
    "sns.heatmap(conf_matrix, annot=True, fmt='d', cmap='Blues')\n",
    "plt.xlabel('Predicted labels')\n",
    "plt.ylabel('True labels')\n",
    "plt.title('Confusion Matrix')\n",
    "plt.show()"
   ]
  },
  {
   "cell_type": "markdown",
   "metadata": {},
   "source": [
    "### Conclusion\n",
    "\n",
    "- best feature: A4 (was the second best feature in first fine_tuned model)\n"
   ]
  },
  {
   "cell_type": "markdown",
   "metadata": {},
   "source": [
    "## NEXT: ONLY using total_score to train"
   ]
  },
  {
   "cell_type": "code",
   "execution_count": 143,
   "metadata": {},
   "outputs": [
    {
     "name": "stdout",
     "output_type": "stream",
     "text": [
      "Predictions: ['YES' 'NO' 'NO' 'NO' 'NO' 'NO' 'YES' 'YES' 'NO' 'YES']\n",
      "Labels:      ['YES', 'NO', 'NO', 'NO', 'NO', 'NO', 'YES', 'YES', 'NO', 'YES']\n",
      "Accuracy:  [1. 1. 1. 1. 1. 1. 1. 1. 1. 1. 1. 1. 1. 1. 1. 1. 1. 1. 1. 1.]\n",
      "Mean Accuracy:  1.0\n"
     ]
    }
   ],
   "source": [
    "# training using only total_score\n",
    "dirty_total_only = strat_train_set['total_score'].copy()\n",
    "total_only_labels = strat_train_set['ASD'].copy()\n",
    "\n",
    "# reshape the data to 2D array for training\n",
    "total_only_prepped = dirty_total_only.values.reshape(-1, 1)\n"
   ]
  },
  {
   "cell_type": "code",
   "execution_count": 144,
   "metadata": {},
   "outputs": [
    {
     "name": "stdout",
     "output_type": "stream",
     "text": [
      "Predictions: ['YES' 'NO' 'NO' 'NO' 'NO' 'NO' 'YES' 'YES' 'NO' 'YES']\n",
      "Labels:      ['YES', 'NO', 'NO', 'NO', 'NO', 'NO', 'YES', 'YES', 'NO', 'YES']\n",
      "Accuracy:  [1. 1. 1. 1. 1. 1. 1. 1. 1. 1. 1. 1. 1. 1. 1. 1. 1. 1. 1. 1.]\n",
      "Mean Accuracy:  1.0\n"
     ]
    }
   ],
   "source": [
    "# initialize the RandomForestClassifier\n",
    "total_only_rfc_clf = RandomForestClassifier(max_features= 4 ,n_estimators= 100, random_state=42)\n",
    "total_only_rfc_clf.fit(total_only_prepped, total_only_labels)\n",
    "\n",
    "# visualize the predictions\n",
    "print(\"Predictions:\", total_only_rfc_clf.predict(total_only_prepped[:10]))\n",
    "print(\"Labels:     \", list(total_only_labels[:10]))\n",
    "\n",
    "# cross validation scores\n",
    "total_only_rdf_acc_scores = cross_val_score_accuracy(total_only_rfc_clf, total_only_prepped, total_only_labels)\n",
    "display_acc_scores(total_only_rdf_acc_scores)"
   ]
  },
  {
   "cell_type": "code",
   "execution_count": 145,
   "metadata": {},
   "outputs": [
    {
     "name": "stdout",
     "output_type": "stream",
     "text": [
      "Predictions: ['YES' 'NO' 'NO' 'NO' 'NO' 'NO' 'YES' 'YES' 'NO' 'YES']\n",
      "Labels:      ['YES', 'NO', 'NO', 'NO', 'NO', 'NO', 'YES', 'YES', 'NO', 'YES']\n",
      "Accuracy:  [1. 1. 1. 1. 1. 1. 1. 1. 1. 1. 1. 1. 1. 1. 1. 1. 1. 1. 1. 1.]\n",
      "Mean Accuracy:  1.0\n"
     ]
    }
   ],
   "source": [
    "# initialize the LogisticRegression\n",
    "total_only_log_reg = LogisticRegression(random_state=42)\n",
    "total_only_log_reg.fit(total_only_prepped, total_only_labels)\n",
    "\n",
    "# visualize the predictions\n",
    "print(\"Predictions:\", total_only_log_reg.predict(total_only_prepped[:10]))\n",
    "print(\"Labels:     \", list(total_only_labels[:10]))\n",
    "\n",
    "# cross validation scores\n",
    "total_only_log_acc_scores = cross_val_score_accuracy(total_only_log_reg, total_only_prepped, total_only_labels)\n",
    "display_acc_scores(total_only_log_acc_scores)"
   ]
  },
  {
   "cell_type": "code",
   "execution_count": 146,
   "metadata": {},
   "outputs": [
    {
     "name": "stdout",
     "output_type": "stream",
     "text": [
      "Predictions: ['YES' 'NO' 'NO' 'NO' 'NO' 'NO' 'YES' 'YES' 'NO' 'YES']\n",
      "Labels:      ['YES', 'NO', 'NO', 'NO', 'NO', 'NO', 'YES', 'YES', 'NO', 'YES']\n",
      "Accuracy:  [1.    1.    1.    1.    1.    1.    1.    1.    1.    0.833 1.    1.\n",
      " 1.    1.    1.    1.    1.    1.    1.    1.   ]\n",
      "Mean Accuracy:  0.992\n"
     ]
    }
   ],
   "source": [
    "# initialize the Stockastic Gradient Descent Classifier\n",
    "total_only_sgd_clf = SGDClassifier(\n",
    "    loss = \"squared_hinge\",\n",
    "    learning_rate = \"optimal\",\n",
    "    max_iter = 1000,\n",
    "    tol = 1e-3,\n",
    "    random_state=42)\n",
    "\n",
    "total_only_sgd_clf.fit(total_only_prepped, total_only_labels.to_numpy())\n",
    "\n",
    "# visualize the predictions\n",
    "print(\"Predictions:\", total_only_sgd_clf.predict(total_only_prepped[:10]))\n",
    "print(\"Labels:     \", list(total_only_labels[:10]))\n",
    "\n",
    "# cross validation scores\n",
    "total_only_sgd_acc_scores = cross_val_score_accuracy(total_only_sgd_clf, total_only_prepped, total_only_labels)\n",
    "display_acc_scores(total_only_sgd_acc_scores)"
   ]
  },
  {
   "cell_type": "code",
   "execution_count": 147,
   "metadata": {},
   "outputs": [
    {
     "name": "stdout",
     "output_type": "stream",
     "text": [
      "Predictions: ['YES' 'NO' 'NO' 'NO' 'NO' 'NO' 'YES' 'YES' 'NO' 'YES']\n",
      "Labels:      ['YES', 'NO', 'NO', 'NO', 'NO', 'NO', 'YES', 'YES', 'NO', 'YES']\n",
      "Accuracy:  [1. 1. 1. 1. 1. 1. 1. 1. 1. 1. 1. 1. 1. 1. 1. 1. 1. 1. 1. 1.]\n",
      "Mean Accuracy:  1.0\n"
     ]
    }
   ],
   "source": [
    "# initialize the Support Vector Classifier\n",
    "total_only_svc_clf = SVC(kernel = \"rbf\", C = 1.0, gamma= \"scale\", random_state=42)\n",
    "total_only_svc_clf.fit(total_only_prepped, total_only_labels)\n",
    "\n",
    "# visualize the predictions\n",
    "print(\"Predictions:\", total_only_svc_clf.predict(total_only_prepped[:10]))\n",
    "print(\"Labels:     \", list(total_only_labels[:10]))\n",
    "\n",
    "# cross validation scores\n",
    "total_only_svc_acc_scores = cross_val_score_accuracy(total_only_svc_clf, total_only_prepped, total_only_labels)\n",
    "display_acc_scores(total_only_svc_acc_scores)"
   ]
  },
  {
   "cell_type": "code",
   "execution_count": 149,
   "metadata": {},
   "outputs": [
    {
     "name": "stdout",
     "output_type": "stream",
     "text": [
      "Predictions: ['YES' 'NO' 'NO' 'NO' 'NO' 'NO' 'YES' 'YES' 'NO' 'YES']\n",
      "Labels:      ['YES', 'NO', 'NO', 'NO', 'NO', 'NO', 'YES', 'YES', 'NO', 'YES']\n"
     ]
    },
    {
     "name": "stderr",
     "output_type": "stream",
     "text": [
      "c:\\Users\\Henry Pham\\VSCode\\CS133\\db-ml-final-project-cs133sp24-sjsu\\venv\\Lib\\site-packages\\sklearn\\neural_network\\_multilayer_perceptron.py:691: ConvergenceWarning: Stochastic Optimizer: Maximum iterations (1000) reached and the optimization hasn't converged yet.\n",
      "  warnings.warn(\n",
      "c:\\Users\\Henry Pham\\VSCode\\CS133\\db-ml-final-project-cs133sp24-sjsu\\venv\\Lib\\site-packages\\sklearn\\neural_network\\_multilayer_perceptron.py:691: ConvergenceWarning: Stochastic Optimizer: Maximum iterations (1000) reached and the optimization hasn't converged yet.\n",
      "  warnings.warn(\n",
      "c:\\Users\\Henry Pham\\VSCode\\CS133\\db-ml-final-project-cs133sp24-sjsu\\venv\\Lib\\site-packages\\sklearn\\neural_network\\_multilayer_perceptron.py:691: ConvergenceWarning: Stochastic Optimizer: Maximum iterations (1000) reached and the optimization hasn't converged yet.\n",
      "  warnings.warn(\n",
      "c:\\Users\\Henry Pham\\VSCode\\CS133\\db-ml-final-project-cs133sp24-sjsu\\venv\\Lib\\site-packages\\sklearn\\neural_network\\_multilayer_perceptron.py:691: ConvergenceWarning: Stochastic Optimizer: Maximum iterations (1000) reached and the optimization hasn't converged yet.\n",
      "  warnings.warn(\n",
      "c:\\Users\\Henry Pham\\VSCode\\CS133\\db-ml-final-project-cs133sp24-sjsu\\venv\\Lib\\site-packages\\sklearn\\neural_network\\_multilayer_perceptron.py:691: ConvergenceWarning: Stochastic Optimizer: Maximum iterations (1000) reached and the optimization hasn't converged yet.\n",
      "  warnings.warn(\n",
      "c:\\Users\\Henry Pham\\VSCode\\CS133\\db-ml-final-project-cs133sp24-sjsu\\venv\\Lib\\site-packages\\sklearn\\neural_network\\_multilayer_perceptron.py:691: ConvergenceWarning: Stochastic Optimizer: Maximum iterations (1000) reached and the optimization hasn't converged yet.\n",
      "  warnings.warn(\n",
      "c:\\Users\\Henry Pham\\VSCode\\CS133\\db-ml-final-project-cs133sp24-sjsu\\venv\\Lib\\site-packages\\sklearn\\neural_network\\_multilayer_perceptron.py:691: ConvergenceWarning: Stochastic Optimizer: Maximum iterations (1000) reached and the optimization hasn't converged yet.\n",
      "  warnings.warn(\n",
      "c:\\Users\\Henry Pham\\VSCode\\CS133\\db-ml-final-project-cs133sp24-sjsu\\venv\\Lib\\site-packages\\sklearn\\neural_network\\_multilayer_perceptron.py:691: ConvergenceWarning: Stochastic Optimizer: Maximum iterations (1000) reached and the optimization hasn't converged yet.\n",
      "  warnings.warn(\n",
      "c:\\Users\\Henry Pham\\VSCode\\CS133\\db-ml-final-project-cs133sp24-sjsu\\venv\\Lib\\site-packages\\sklearn\\neural_network\\_multilayer_perceptron.py:691: ConvergenceWarning: Stochastic Optimizer: Maximum iterations (1000) reached and the optimization hasn't converged yet.\n",
      "  warnings.warn(\n",
      "c:\\Users\\Henry Pham\\VSCode\\CS133\\db-ml-final-project-cs133sp24-sjsu\\venv\\Lib\\site-packages\\sklearn\\neural_network\\_multilayer_perceptron.py:691: ConvergenceWarning: Stochastic Optimizer: Maximum iterations (1000) reached and the optimization hasn't converged yet.\n",
      "  warnings.warn(\n",
      "c:\\Users\\Henry Pham\\VSCode\\CS133\\db-ml-final-project-cs133sp24-sjsu\\venv\\Lib\\site-packages\\sklearn\\neural_network\\_multilayer_perceptron.py:691: ConvergenceWarning: Stochastic Optimizer: Maximum iterations (1000) reached and the optimization hasn't converged yet.\n",
      "  warnings.warn(\n",
      "c:\\Users\\Henry Pham\\VSCode\\CS133\\db-ml-final-project-cs133sp24-sjsu\\venv\\Lib\\site-packages\\sklearn\\neural_network\\_multilayer_perceptron.py:691: ConvergenceWarning: Stochastic Optimizer: Maximum iterations (1000) reached and the optimization hasn't converged yet.\n",
      "  warnings.warn(\n",
      "c:\\Users\\Henry Pham\\VSCode\\CS133\\db-ml-final-project-cs133sp24-sjsu\\venv\\Lib\\site-packages\\sklearn\\neural_network\\_multilayer_perceptron.py:691: ConvergenceWarning: Stochastic Optimizer: Maximum iterations (1000) reached and the optimization hasn't converged yet.\n",
      "  warnings.warn(\n"
     ]
    },
    {
     "name": "stdout",
     "output_type": "stream",
     "text": [
      "Accuracy:  [1. 1. 1. 1. 1. 1. 1. 1. 1. 1. 1. 1. 1. 1. 1. 1. 1. 1. 1. 1.]\n",
      "Mean Accuracy:  1.0\n"
     ]
    },
    {
     "name": "stderr",
     "output_type": "stream",
     "text": [
      "c:\\Users\\Henry Pham\\VSCode\\CS133\\db-ml-final-project-cs133sp24-sjsu\\venv\\Lib\\site-packages\\sklearn\\neural_network\\_multilayer_perceptron.py:691: ConvergenceWarning: Stochastic Optimizer: Maximum iterations (1000) reached and the optimization hasn't converged yet.\n",
      "  warnings.warn(\n"
     ]
    }
   ],
   "source": [
    "# more models\n",
    "# initialize the MLPClassifier\n",
    "mlp_clf = MLPClassifier(hidden_layer_sizes=(100, ), max_iter=1000, random_state=42)\n",
    "mlp_clf.fit(total_only_prepped, total_only_labels)\n",
    "\n",
    "# visualize the predictions\n",
    "print(\"Predictions:\", mlp_clf.predict(total_only_prepped[:10]))\n",
    "print(\"Labels:     \", list(total_only_labels[:10]))\n",
    "\n",
    "# cross validation scores\n",
    "mlp_acc_scores = cross_val_score_accuracy(mlp_clf, total_only_prepped, total_only_labels)\n",
    "display_acc_scores(mlp_acc_scores)"
   ]
  },
  {
   "cell_type": "code",
   "execution_count": 150,
   "metadata": {},
   "outputs": [
    {
     "name": "stdout",
     "output_type": "stream",
     "text": [
      "Predictions: ['YES' 'NO' 'NO' 'NO' 'NO' 'NO' 'YES' 'YES' 'NO' 'YES']\n",
      "Labels:      ['YES', 'NO', 'NO', 'NO', 'NO', 'NO', 'YES', 'YES', 'NO', 'YES']\n",
      "Accuracy:  [1. 1. 1. 1. 1. 1. 1. 1. 1. 1. 1. 1. 1. 1. 1. 1. 1. 1. 1. 1.]\n",
      "Mean Accuracy:  1.0\n"
     ]
    }
   ],
   "source": [
    "# more models\n",
    "# initialize the KNeighborsClassifier\n",
    "from sklearn.neighbors import KNeighborsClassifier\n",
    "knn_clf = KNeighborsClassifier(n_neighbors=5)\n",
    "knn_clf.fit(total_only_prepped, total_only_labels)\n",
    "\n",
    "# visualize the predictions\n",
    "print(\"Predictions:\", knn_clf.predict(total_only_prepped[:10]))\n",
    "print(\"Labels:     \", list(total_only_labels[:10]))\n",
    "\n",
    "# cross validation scores\n",
    "knn_acc_scores = cross_val_score_accuracy(knn_clf, total_only_prepped, total_only_labels)\n",
    "display_acc_scores(knn_acc_scores)"
   ]
  },
  {
   "cell_type": "code",
   "execution_count": 151,
   "metadata": {},
   "outputs": [
    {
     "name": "stdout",
     "output_type": "stream",
     "text": [
      "Predictions: ['YES' 'NO' 'NO' 'NO' 'NO' 'NO' 'YES' 'YES' 'NO' 'YES']\n",
      "Labels:      ['YES', 'NO', 'NO', 'NO', 'NO', 'NO', 'YES', 'YES', 'NO', 'YES']\n",
      "Accuracy:  [1. 1. 1. 1. 1. 1. 1. 1. 1. 1. 1. 1. 1. 1. 1. 1. 1. 1. 1. 1.]\n",
      "Mean Accuracy:  1.0\n"
     ]
    }
   ],
   "source": [
    "# more models\n",
    "# initialize the GaussianNB\n",
    "from sklearn.naive_bayes import GaussianNB\n",
    "gnb_clf = GaussianNB()\n",
    "gnb_clf.fit(total_only_prepped, total_only_labels)\n",
    "\n",
    "# visualize the predictions\n",
    "print(\"Predictions:\", gnb_clf.predict(total_only_prepped[:10]))\n",
    "print(\"Labels:     \", list(total_only_labels[:10]))\n",
    "\n",
    "# cross validation scores\n",
    "gnb_acc_scores = cross_val_score_accuracy(gnb_clf, total_only_prepped, total_only_labels)\n",
    "display_acc_scores(gnb_acc_scores)"
   ]
  },
  {
   "cell_type": "markdown",
   "metadata": {},
   "source": [
    "The models used in this Jupyter Notebook are:\n",
    "\n",
    "1. GaussianNB\n",
    "2. KNeighborsClassifier\n",
    "3. MLPClassifier\n",
    "4. RandomForestClassifier\n",
    "5. SGDClassifier\n",
    "6. SVC\n"
   ]
  }
 ],
 "metadata": {
  "kernelspec": {
   "display_name": "venv",
   "language": "python",
   "name": "python3"
  },
  "language_info": {
   "codemirror_mode": {
    "name": "ipython",
    "version": 3
   },
   "file_extension": ".py",
   "mimetype": "text/x-python",
   "name": "python",
   "nbconvert_exporter": "python",
   "pygments_lexer": "ipython3",
   "version": "3.11.3"
  }
 },
 "nbformat": 4,
 "nbformat_minor": 2
}
